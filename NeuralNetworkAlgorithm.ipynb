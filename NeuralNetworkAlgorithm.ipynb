{
 "cells": [
  {
   "cell_type": "markdown",
   "id": "5880f043",
   "metadata": {},
   "source": [
    "# Algoritmo para el entrenamiento de una red neuronal utilizando el descenso del gradiente"
   ]
  },
  {
   "cell_type": "code",
   "execution_count": 45,
   "id": "3da5045a",
   "metadata": {},
   "outputs": [],
   "source": [
    "import numpy as np\n",
    "import random"
   ]
  },
  {
   "cell_type": "markdown",
   "id": "e914c9dc",
   "metadata": {},
   "source": [
    "Inicialmente se procede a definir la función de activación y la derivada de la función de activación, para esto se utiliza la función sigmoide\n"
   ]
  },
  {
   "cell_type": "markdown",
   "id": "c98bf277",
   "metadata": {},
   "source": [
    "\\begin{equation}\n",
    "g(z) = \\frac{1}{1+e^{(-z)}}\n",
    "\\end{equation}"
   ]
  },
  {
   "cell_type": "markdown",
   "id": "0d8d5eef",
   "metadata": {},
   "source": [
    "\\begin{equation}\n",
    "g'(z) = g(z)\\cdot(1-g(z))\n",
    "\\end{equation}"
   ]
  },
  {
   "cell_type": "code",
   "execution_count": 46,
   "id": "1cf12ce6",
   "metadata": {},
   "outputs": [],
   "source": [
    "def sigmoid(z):\n",
    "    sig = 1.0/(1.0+np.exp(-z))\n",
    "    return sig"
   ]
  },
  {
   "cell_type": "code",
   "execution_count": 47,
   "id": "4f354887",
   "metadata": {},
   "outputs": [],
   "source": [
    "def sigmoid_prime(z):\n",
    "    sig_prime = sigmoid(z)*(1-sigmoid(z))\n",
    "    return sig_prime"
   ]
  },
  {
   "cell_type": "markdown",
   "id": "a10d6cf6",
   "metadata": {},
   "source": [
    "Se genera una clase para generar una red neuronal y entrenarla, esta clase toma el parámetro *sizes*, del tipo lista [numCapa1, numCapa2, numCapa3], donde el número de elementos de la lista representa el número de capas de la red y el valor de cada elemento el número de neuronas de cada capa, así mismo, [24,20,5], la capa1 constará de de 24 neuronas, la capa2 constará de 20 neuronas y la capa3 constará de 5 neuronas."
   ]
  },
  {
   "cell_type": "code",
   "execution_count": 63,
   "id": "a400da90",
   "metadata": {},
   "outputs": [],
   "source": [
    "class Network(object):\n",
    "    def __init__(self, sizes):\n",
    "        # Sizes es una lista con el número de neuronas de cada capa\n",
    "        self.num_layers = len(sizes)\n",
    "        self.sizes = sizes\n",
    "        # Se inicializan los bias de cada neurona con valores aleatorios\n",
    "        self.biases = [np.random.randn(y, 1) for y in sizes[1:]]\n",
    "        # Se inicializan los pesos sinápticos de las conexiones con valores aleatorios\n",
    "        self.weights = [np.random.randn(y, x) for x, y in zip(sizes[:-1], sizes[1:])]\n",
    "        \n",
    "    def feedforward(self, a):\n",
    "        # Propagación hacia adelante, se calcula la activacion utilizando la función sigmoide\n",
    "        for b, w in zip(self.biases, self.weights):\n",
    "            a = sigmoid(np.dot(w,a) + b)\n",
    "        return a\n",
    "    \n",
    "    def SGD(self, train_data, epochs, mini_batch_size, eta, test_data = None):\n",
    "        # Algoritmo para el descenso del gradiente\n",
    "        training_data = list(train_data)\n",
    "        n = len(training_data)\n",
    "        \n",
    "        if test_data:\n",
    "            # Si se ingresan valores para el testeo se convierten a lista y se halla la dimensión\n",
    "            test_data = list(test_data)\n",
    "            n_test = len(test_data)\n",
    "            \n",
    "        for j in range(epochs):\n",
    "            # Se \"barajan\" los datos de entrenamiento para seleccionar conjuntos aleatorios de datos\n",
    "            random.shuffle(training_data)\n",
    "            \n",
    "            # Se crean lotes aleatorios del tamaño \"mini_batch_size\" \n",
    "            # La creación de lotes disminuye el costo computacional de la operación\n",
    "            mini_batches = [training_data[k:k+mini_batch_size] for k in range(0, n, mini_batch_size)]\n",
    "            for mini_batch in mini_batches:\n",
    "                self.update_mini_batch(mini_batch, eta)\n",
    "            if test_data:\n",
    "                print(\"Epoch {} : {}% - {}/{}\". format(j, self.evaluate(test_data)*100/n_test, self.evaluate(test_data), n_test))\n",
    "            else:\n",
    "                print(\"Epocj {} complete\".format(j))\n",
    "    \n",
    "    def update_mini_batch(self, mini_batch, eta):\n",
    "        nabla_b = [np.zeros(b.shape) for b in self.biases]\n",
    "        nabla_w = [np.zeros(w.shape) for w in self.weights]\n",
    "        for x, y in mini_batch:\n",
    "            delta_nabla_b, delta_nabla_w = self.backprop(x,y)\n",
    "            nabla_b = [nb+dnb for nb, dnb in zip(nabla_b, delta_nabla_b)]\n",
    "            nabla_w = [nw+dnw for nw, dnw in zip(nabla_w, delta_nabla_w)]\n",
    "        self.weights = [w-(eta/len(mini_batch))*nw for w, nw in zip(self.weights, nabla_w)]\n",
    "        self.biases = [b-(eta/len(mini_batch))*nb for b, nb in zip(self.biases, nabla_b)]\n",
    "\n",
    "    def backprop(self, x, y):\n",
    "        # Se inicializan las matrices de bias y pesos sinápticos\n",
    "        nabla_b = [np.zeros(b.shape) for b in self.biases]\n",
    "        nabla_w = [np.zeros(w.shape) for w in self.weights]\n",
    "        \n",
    "        # Se parte de la activación inicial, es decir el array X de entradas\n",
    "        activation = x\n",
    "        \n",
    "        # Lista para almacenar las activaciones capa tras capa, se inicializa con el valor de las entradas X\n",
    "        activations = [x]\n",
    "        \n",
    "        # Lista para almacenar los valores de z capa tras capa\n",
    "        zs =[]\n",
    "        \n",
    "        for b, w in zip(self.biases, self.weights):\n",
    "            z = np.dot(w, activation)+b\n",
    "            zs.append(z)\n",
    "            activation = sigmoid(z)\n",
    "            activations.append(activation)\n",
    "            \n",
    "        delta = self.cost_derivative(activations[-1], y) * sigmoid_prime(zs[-1])\n",
    "        nabla_b[-1] = delta\n",
    "        nabla_w[-1] = np.dot(delta, activations[-2].transpose())\n",
    "        \n",
    "        for l in range(2, self.num_layers):\n",
    "            z = zs[-l]\n",
    "            sp = sigmoid_prime(z)\n",
    "            delta = np.dot(self.weights[-l+1].transpose(), delta) * sp\n",
    "            nabla_b[-l] = delta\n",
    "            nabla_w[-l] = np.dot(delta, activations[-l-1].transpose())\n",
    "        return nabla_b, nabla_w\n",
    "    \n",
    "    def evaluate(self, test_data):\n",
    "        test_results = [(np.argmax(self.feedforward(x)), y) for (x,y) in test_data]\n",
    "        return sum(int(x == y) for (x,y) in test_results)\n",
    "    \n",
    "    def cost_derivative(self, output_activations, y):\n",
    "        return output_activations-y\n",
    "                      \n",
    "            "
   ]
  },
  {
   "cell_type": "code",
   "execution_count": 64,
   "id": "85abc40f",
   "metadata": {},
   "outputs": [],
   "source": [
    "import mnist_loader"
   ]
  },
  {
   "cell_type": "code",
   "execution_count": 65,
   "id": "817008aa",
   "metadata": {},
   "outputs": [],
   "source": [
    "Training_data, Validation_data, Test_data = mnist_loader.load_data_wrapper()"
   ]
  },
  {
   "cell_type": "code",
   "execution_count": 66,
   "id": "1a3102e9",
   "metadata": {},
   "outputs": [],
   "source": [
    "net = Network([784,30,10])"
   ]
  },
  {
   "cell_type": "code",
   "execution_count": 67,
   "id": "2aac4f9c",
   "metadata": {},
   "outputs": [
    {
     "name": "stdout",
     "output_type": "stream",
     "text": [
      "Epoch 0 : 90.97% - 9097/10000\n",
      "Epoch 1 : 92.42% - 9242/10000\n",
      "Epoch 2 : 93.07% - 9307/10000\n",
      "Epoch 3 : 93.74% - 9374/10000\n",
      "Epoch 4 : 93.89% - 9389/10000\n",
      "Epoch 5 : 94.14% - 9414/10000\n",
      "Epoch 6 : 94.38% - 9438/10000\n",
      "Epoch 7 : 94.57% - 9457/10000\n",
      "Epoch 8 : 94.7% - 9470/10000\n",
      "Epoch 9 : 94.91% - 9491/10000\n"
     ]
    }
   ],
   "source": [
    "net.SGD(Training_data, 10, 10, 3.0, test_data = Test_data)"
   ]
  },
  {
   "cell_type": "code",
   "execution_count": null,
   "id": "fdd50e99",
   "metadata": {},
   "outputs": [],
   "source": []
  }
 ],
 "metadata": {
  "kernelspec": {
   "display_name": "Python 3",
   "language": "python",
   "name": "python3"
  },
  "language_info": {
   "codemirror_mode": {
    "name": "ipython",
    "version": 3
   },
   "file_extension": ".py",
   "mimetype": "text/x-python",
   "name": "python",
   "nbconvert_exporter": "python",
   "pygments_lexer": "ipython3",
   "version": "3.8.8"
  }
 },
 "nbformat": 4,
 "nbformat_minor": 5
}
