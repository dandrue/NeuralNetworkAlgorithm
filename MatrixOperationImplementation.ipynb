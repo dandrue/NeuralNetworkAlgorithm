{
 "cells": [
  {
   "cell_type": "code",
   "execution_count": 31,
   "id": "3b5980ff",
   "metadata": {},
   "outputs": [],
   "source": [
    "import mnist_loader\n",
    "import numpy as np"
   ]
  },
  {
   "cell_type": "code",
   "execution_count": 32,
   "id": "29463048",
   "metadata": {},
   "outputs": [],
   "source": [
    "training_data, validation_data, test_data = mnist_loader.load_data_wrapper()\n",
    "\n",
    "# Unpacking the training_data and the test_data to modify them adding the ones\n",
    "# column at the beginning of each array.w\n",
    "x, y = zip(*training_data)\n",
    "x_test, y_test = zip(*test_data)\n",
    "x_test = np.insert(x_test, 0, 1.0, axis=1)\n",
    "x = np.insert(x, 0, 1.0, axis=1)\n",
    "# Now the training and test data is packed using a zip object to use as input of the NnAlgorithm module\n",
    "training_data = zip(x, y)\n",
    "test_data = zip(x_test, y_test)"
   ]
  },
  {
   "cell_type": "code",
   "execution_count": 33,
   "id": "230f7161",
   "metadata": {},
   "outputs": [],
   "source": [
    "def sigmoid(z):\n",
    "    \"\"\"\n",
    "    Activation function. Implement matrix operations\n",
    "    \"\"\"\n",
    "    sig = 1.0 / (1.0 + np.exp(-z))\n",
    "    return sig\n"
   ]
  },
  {
   "cell_type": "code",
   "execution_count": 34,
   "id": "45104a90",
   "metadata": {},
   "outputs": [],
   "source": [
    "def sigmoid_prime(z):\n",
    "    \"\"\"\n",
    "    Derivative of the activation function. Implement matrix operations\n",
    "    \"\"\"\n",
    "    sig_prime = sigmoid(z) * (1-sigmoid(-z))\n",
    "    return sig_prime"
   ]
  },
  {
   "cell_type": "code",
   "execution_count": 35,
   "id": "cd495688",
   "metadata": {},
   "outputs": [
    {
     "data": {
      "text/plain": [
       "numpy.ndarray"
      ]
     },
     "execution_count": 35,
     "metadata": {},
     "output_type": "execute_result"
    }
   ],
   "source": [
    "type(x)"
   ]
  },
  {
   "cell_type": "code",
   "execution_count": 36,
   "id": "b3782a07",
   "metadata": {},
   "outputs": [],
   "source": [
    "activation = sigmoid(x)"
   ]
  },
  {
   "cell_type": "code",
   "execution_count": 37,
   "id": "54bc0cbf",
   "metadata": {},
   "outputs": [
    {
     "data": {
      "text/plain": [
       "(50000, 785, 1)"
      ]
     },
     "execution_count": 37,
     "metadata": {},
     "output_type": "execute_result"
    }
   ],
   "source": [
    "np.shape(activation)"
   ]
  },
  {
   "cell_type": "code",
   "execution_count": 38,
   "id": "5749aeec",
   "metadata": {},
   "outputs": [],
   "source": [
    "activation = np.reshape(activation,(len(activation),-1))"
   ]
  },
  {
   "cell_type": "code",
   "execution_count": 39,
   "id": "d8484f09",
   "metadata": {},
   "outputs": [
    {
     "data": {
      "text/plain": [
       "(50000, 785)"
      ]
     },
     "execution_count": 39,
     "metadata": {},
     "output_type": "execute_result"
    }
   ],
   "source": [
    "np.shape(activation)"
   ]
  },
  {
   "cell_type": "code",
   "execution_count": 40,
   "id": "eb531a0b",
   "metadata": {},
   "outputs": [
    {
     "data": {
      "text/plain": [
       "numpy.ndarray"
      ]
     },
     "execution_count": 40,
     "metadata": {},
     "output_type": "execute_result"
    }
   ],
   "source": [
    "type(activation)"
   ]
  },
  {
   "cell_type": "code",
   "execution_count": 41,
   "id": "66dec394",
   "metadata": {},
   "outputs": [
    {
     "data": {
      "text/plain": [
       "(785, 50000)"
      ]
     },
     "execution_count": 41,
     "metadata": {},
     "output_type": "execute_result"
    }
   ],
   "source": [
    "activation = activation.transpose()\n",
    "np.shape(activation)"
   ]
  },
  {
   "cell_type": "code",
   "execution_count": 42,
   "id": "abc94b0d",
   "metadata": {},
   "outputs": [],
   "source": [
    "activation_prime = sigmoid_prime(x)"
   ]
  },
  {
   "cell_type": "code",
   "execution_count": 43,
   "id": "fb579735",
   "metadata": {},
   "outputs": [
    {
     "data": {
      "text/plain": [
       "(50000, 785, 1)"
      ]
     },
     "execution_count": 43,
     "metadata": {},
     "output_type": "execute_result"
    }
   ],
   "source": [
    "np.shape(activation_prime)"
   ]
  },
  {
   "cell_type": "code",
   "execution_count": 44,
   "id": "ca5fe537",
   "metadata": {},
   "outputs": [
    {
     "data": {
      "text/plain": [
       "(50000, 785)"
      ]
     },
     "execution_count": 44,
     "metadata": {},
     "output_type": "execute_result"
    }
   ],
   "source": [
    "activation_prime = np.reshape(activation_prime,(len(activation_prime),-1))\n",
    "np.shape(activation_prime)"
   ]
  },
  {
   "cell_type": "code",
   "execution_count": 45,
   "id": "a9adf6a0",
   "metadata": {},
   "outputs": [],
   "source": [
    "class Network(object):\n",
    "    def __init__(self, sizes):\n",
    "        self.num_layers = len(sizes)\n",
    "        self.sizes = [sizes[x] + 1 if x < len(sizes) - 1 else sizes[x]\n",
    "                      for x in range(len(sizes))]\n",
    "        self.weights = [np.random.randn(y,x) for x, y in zip(self.sizes[:-1], self.sizes[1:])]\n",
    "        \n",
    "    def feedforward(self, a):\n",
    "        for w in self.weights:\n",
    "            print(np.shape(np.dot(w,a)))\n",
    "            a = sigmoid(np.dot(w,a))\n",
    "            print(a)\n",
    "        return a\n",
    "    \n",
    "    def gradient_descent(self, train_data, epochs, mini_batch_size, eta, test_data = None):\n",
    "        training_data = list(train_data)\n",
    "        n = len(training_data)\n",
    "        print(n)\n",
    "        \n",
    "        if test_data:\n",
    "            test_data = list(test_data)\n",
    "            n_test = len(test_data)\n",
    "        else:\n",
    "            n_test = 0\n",
    "            \n",
    "        # This for loop its necessary because is used to calculate the values throughout the epochs\n",
    "        for i in range(epochs):\n",
    "            pass\n",
    "        "
   ]
  },
  {
   "cell_type": "code",
   "execution_count": 46,
   "id": "64bc6106",
   "metadata": {},
   "outputs": [],
   "source": [
    "net = Network([784,30,30,10])"
   ]
  },
  {
   "cell_type": "code",
   "execution_count": 47,
   "id": "a5181352",
   "metadata": {},
   "outputs": [
    {
     "data": {
      "text/plain": [
       "4"
      ]
     },
     "execution_count": 47,
     "metadata": {},
     "output_type": "execute_result"
    }
   ],
   "source": [
    "net.num_layers"
   ]
  },
  {
   "cell_type": "code",
   "execution_count": 48,
   "id": "5e3ac073",
   "metadata": {},
   "outputs": [
    {
     "data": {
      "text/plain": [
       "array([785,  31,  31,  10])"
      ]
     },
     "execution_count": 48,
     "metadata": {},
     "output_type": "execute_result"
    }
   ],
   "source": [
    "sizes = np.array(net.sizes)\n",
    "sizes"
   ]
  },
  {
   "cell_type": "code",
   "execution_count": 49,
   "id": "6f33a01c",
   "metadata": {},
   "outputs": [
    {
     "data": {
      "text/plain": [
       "3"
      ]
     },
     "execution_count": 49,
     "metadata": {},
     "output_type": "execute_result"
    }
   ],
   "source": [
    "weights = net.weights\n",
    "len(weights)"
   ]
  },
  {
   "cell_type": "code",
   "execution_count": 50,
   "id": "90dcb728",
   "metadata": {},
   "outputs": [],
   "source": [
    "entry = x[0]"
   ]
  },
  {
   "cell_type": "code",
   "execution_count": 51,
   "id": "0b07da52",
   "metadata": {},
   "outputs": [
    {
     "name": "stdout",
     "output_type": "stream",
     "text": [
      "50000\n"
     ]
    }
   ],
   "source": [
    "net.gradient_descent(training_data, 10, 10, 3.0, test_data=test_data)"
   ]
  },
  {
   "cell_type": "code",
   "execution_count": null,
   "id": "e3233423",
   "metadata": {},
   "outputs": [],
   "source": []
  },
  {
   "cell_type": "code",
   "execution_count": null,
   "id": "7143237d",
   "metadata": {},
   "outputs": [],
   "source": []
  }
 ],
 "metadata": {
  "kernelspec": {
   "display_name": "Python 3",
   "language": "python",
   "name": "python3"
  },
  "language_info": {
   "codemirror_mode": {
    "name": "ipython",
    "version": 3
   },
   "file_extension": ".py",
   "mimetype": "text/x-python",
   "name": "python",
   "nbconvert_exporter": "python",
   "pygments_lexer": "ipython3",
   "version": "3.8.8"
  }
 },
 "nbformat": 4,
 "nbformat_minor": 5
}
